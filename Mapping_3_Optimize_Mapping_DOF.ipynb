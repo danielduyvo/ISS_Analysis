{
 "cells": [
  {
   "cell_type": "code",
   "execution_count": 1,
   "metadata": {},
   "outputs": [],
   "source": [
    "import Mapping_Functions as mf\n",
    "import numpy as np\n",
    "import pandas as pd\n",
    "import matplotlib.pyplot as plt\n",
    "from os.path import join\n",
    "from pims_nd2 import ND2_Reader as nd2_opener"
   ]
  },
  {
   "cell_type": "markdown",
   "metadata": {},
   "source": [
    "Optimization jupyter notebook of affine transform.\n",
    "Points are 2D numpy array of size (number of points x 3), array columns are: tile number, i coordinate, j coordinate\n",
    "p_10X: Low mag points\n",
    "p_40X: High mag points\n",
    "For a well, 3 points minimum, 5 recommended"
   ]
  },
  {
   "cell_type": "code",
   "execution_count": 6,
   "metadata": {},
   "outputs": [],
   "source": [
    "well = 1\n",
    "\n",
    "if well == 1:\n",
    "    p_10X = np.array([[34, 1610, 228], [35, 1295, 672], [50, 730, 900]])\n",
    "    p_40X = np.array([[561, 2030, 1285], [566, 758, 765], [897, 800, 1670]])"
   ]
  },
  {
   "cell_type": "markdown",
   "metadata": {},
   "source": [
    "Minimization Function.\n",
    "x: provide the optimal 5 degrees of freedom to be used in the mapping affine transformation.\n",
    "Pixel Errors between ground truth and affine transformation.\n",
    "Recommended to keep below +/-10 pixels per point."
   ]
  },
  {
   "cell_type": "code",
   "execution_count": 7,
   "metadata": {},
   "outputs": [
    {
     "name": "stdout",
     "output_type": "stream",
     "text": [
      " message: Optimization terminated successfully\n",
      " success: True\n",
      "  status: 0\n",
      "     fun: 31.55910359648673\n",
      "       x: [ 6.212e+02  6.675e+02  2.532e-02  4.003e+00  4.003e+00]\n",
      "     nit: 18\n",
      "     jac: [-1.971e-03  6.177e-04  3.454e-01 -1.582e+00  2.690e-01]\n",
      "    nfev: 134\n",
      "    njev: 18\n",
      "Pixel Errors (X,Y)\n",
      "Point  0 [3, -2]\n",
      "Point  1 [-3, -1]\n",
      "Point  2 [0, 3]\n",
      "[6.21232776e+02 6.67464359e+02 2.53159474e-02 4.00321261e+00\n",
      " 4.00259586e+00]\n"
     ]
    }
   ],
   "source": [
    "M_10X = np.load('M_10X.npy')\n",
    "M_40X = np.load('M_40X.npy')\n",
    "\n",
    "P_10X = mf.Local_to_Global(p_10X, M_10X, [2304, 2304])\n",
    "P_40X = mf.Local_to_Global(p_40X, M_40X, [2304, 2304])\n",
    "DOF = mf.Fit_By_Points(P_10X, P_40X, verbose=True)\n",
    "\n",
    "print(DOF)"
   ]
  }
 ],
 "metadata": {
  "kernelspec": {
   "display_name": "Python 3 (ipykernel)",
   "language": "python",
   "name": "python3"
  },
  "language_info": {
   "codemirror_mode": {
    "name": "ipython",
    "version": 3
   },
   "file_extension": ".py",
   "mimetype": "text/x-python",
   "name": "python",
   "nbconvert_exporter": "python",
   "pygments_lexer": "ipython3",
   "version": "3.10.4"
  }
 },
 "nbformat": 4,
 "nbformat_minor": 4
}
